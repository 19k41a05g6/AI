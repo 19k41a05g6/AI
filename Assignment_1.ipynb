{
  "nbformat": 4,
  "nbformat_minor": 0,
  "metadata": {
    "colab": {
      "name": "Assignment_1.ipynb",
      "provenance": [],
      "include_colab_link": true
    },
    "kernelspec": {
      "name": "python3",
      "display_name": "Python 3"
    },
    "language_info": {
      "name": "python"
    }
  },
  "cells": [
    {
      "cell_type": "markdown",
      "metadata": {
        "id": "view-in-github",
        "colab_type": "text"
      },
      "source": [
        "<a href=\"https://colab.research.google.com/github/19k41a05g6/AI/blob/main/Assignment_1.ipynb\" target=\"_parent\"><img src=\"https://colab.research.google.com/assets/colab-badge.svg\" alt=\"Open In Colab\"/></a>"
      ]
    },
    {
      "cell_type": "code",
      "metadata": {
        "colab": {
          "base_uri": "https://localhost:8080/"
        },
        "id": "jOMZnjp2O41v",
        "outputId": "4be2120b-44d6-464f-bac5-8ffaa7ad00c9"
      },
      "source": [
        "from scipy.optimize import linprog\n",
        "fm = [-50,-120]\n",
        "a = [[7000,2000],[10,30]]\n",
        "b = [700000,1200]\n",
        "boundary = [(0,float('inf')),(0,float('inf'))]\n",
        "opt = linprog(c=fm, A_ub=None, b_ub=None, A_eq=a, b_eq=b, bounds=boundary, method=\"Simplex\")\n",
        "profit = round(opt.x[0])*50 + round(opt.x[1])*120\n",
        "labour_req = round(opt.x[0])*10 + round(opt.x[1])*30\n",
        "print('No.of hectors and labours allocated for Wheat: ',round(opt.x[0]),',',round(opt.x[0])*10,'\\nNo.of hectors and labours allocated for Barley: ',round(opt.x[1]),',',round(opt.x[1])*30,'\\nProfit = ',round(profit),'\\nNo.of labour required = ',labour_req)\n"
      ],
      "execution_count": 5,
      "outputs": [
        {
          "output_type": "stream",
          "text": [
            "No.of hectors and labours allocated for Wheat:  98 , 980 \n",
            "No.of hectors and labours allocated for Barley:  7 , 210 \n",
            "Profit =  5740 \n",
            "No.of labour required =  1190\n"
          ],
          "name": "stdout"
        }
      ]
    },
    {
      "cell_type": "code",
      "metadata": {
        "id": "yy49pTN_N6Wl"
      },
      "source": [
        ""
      ],
      "execution_count": null,
      "outputs": []
    }
  ]
}